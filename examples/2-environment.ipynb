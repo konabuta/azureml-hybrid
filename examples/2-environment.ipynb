{
 "metadata": {
  "language_info": {
   "codemirror_mode": {
    "name": "ipython",
    "version": 3
   },
   "file_extension": ".py",
   "mimetype": "text/x-python",
   "name": "python",
   "nbconvert_exporter": "python",
   "pygments_lexer": "ipython3",
   "version": "3.6.12-final"
  },
  "orig_nbformat": 2,
  "kernelspec": {
   "name": "pytorch_env",
   "display_name": "pytorch_env"
  }
 },
 "nbformat": 4,
 "nbformat_minor": 2,
 "cells": [
  {
   "source": [
    "## Azure Machine Learning Environment への登録\n",
    "Python の実行環境に関する情報を Azure Machine Learning Envionrment に登録します。\n",
    "\n",
    "Python のパッケージの管理は複雑なもので再現性が求められます。Azure Machine Learning Environment は Python パッケージ、Docker、環境変数の情報をバージョン管理します。この環境を指定してモデル学習が実行できます。モデル学習に Environment を紐づけることができるため、過去の学習を再現させることは容易です。"
   ],
   "cell_type": "markdown",
   "metadata": {}
  },
  {
   "source": [
    "### Azure Machine Learning Environment の利用シーン"
   ],
   "cell_type": "markdown",
   "metadata": {}
  },
  {
   "source": [
    "Environment は _キュレーション_、_ユーザ管理_、_システム管理_ の 3 つに分類されます。逆引きで利用シーンについて記載します。\n",
    "\n",
    "- Docker イメージだけを利用して Python 環境を構築したい\n",
    "    - _ユーザ管理_ の Environment\n",
    "    - 必要な Python パッケージが Docker で導入済みである必要がある\n",
    "- 指定した Python パッケージをコンピューティング環境で自動でインストールして欲しい\n",
    "    - _システム管理_ の Environment\n",
    "- クイックに事前構築 & 検証済みの環境を使いたい\n",
    "    - _キュレーション_ の Environment"
   ],
   "cell_type": "markdown",
   "metadata": {}
  },
  {
   "source": [
    "### conda yml ファイル記載パッケージの登録"
   ],
   "cell_type": "markdown",
   "metadata": {}
  },
  {
   "cell_type": "code",
   "execution_count": null,
   "metadata": {},
   "outputs": [],
   "source": [
    "from azureml.core import Workspace\n",
    "ws = Workspace.from_config()\n",
    "print(ws.name, ws.resource_group, ws.location, ws.subscription_id, sep = '\\n')"
   ]
  },
  {
   "cell_type": "code",
   "execution_count": null,
   "metadata": {},
   "outputs": [],
   "source": [
    "from azureml.core import Environment"
   ]
  },
  {
   "cell_type": "code",
   "execution_count": null,
   "metadata": {},
   "outputs": [],
   "source": [
    "# conda の yml ファイルより Environment を作成\n",
    "env = Environment.from_conda_specification(\n",
    "    name=\"pytorch-env\",\n",
    "    file_path=\"../environments/pytorch_env.yml\"\n",
    ")"
   ]
  },
  {
   "cell_type": "code",
   "execution_count": null,
   "metadata": {},
   "outputs": [],
   "source": [
    "env.docker.enabled = True"
   ]
  },
  {
   "cell_type": "code",
   "execution_count": null,
   "metadata": {},
   "outputs": [],
   "source": [
    "# Environment の登録\n",
    "env.register(ws)"
   ]
  },
  {
   "cell_type": "code",
   "execution_count": null,
   "metadata": {},
   "outputs": [],
   "source": [
    "#env.build(ws).wait_for_completion()"
   ]
  },
  {
   "source": [
    "### 登録済み Environment の確認"
   ],
   "cell_type": "markdown",
   "metadata": {}
  },
  {
   "source": [
    "キュレーションされた Environment の最新の一覧は Python SDK より確認します。\n"
   ],
   "cell_type": "markdown",
   "metadata": {}
  },
  {
   "cell_type": "code",
   "execution_count": null,
   "metadata": {},
   "outputs": [],
   "source": [
    "envs = Environment.list(workspace=ws)"
   ]
  },
  {
   "cell_type": "code",
   "execution_count": null,
   "metadata": {},
   "outputs": [],
   "source": [
    "# キュレーションされた Environment\n",
    "for env in envs:\n",
    "    if env.startswith(\"AzureML\"):\n",
    "        print(\"Name\",env)\n",
    "        print(\"packages\", envs[env].python.conda_dependencies.serialize_to_string())"
   ]
  },
  {
   "cell_type": "code",
   "execution_count": null,
   "metadata": {},
   "outputs": [],
   "source": [
    "# ユーザが作成した Environment\n",
    "for env in envs:\n",
    "    if env.startswith(\"AzureML\") is False:\n",
    "        print(\"Name\",env)\n",
    "        print(\"packages\", envs[env].python.conda_dependencies.serialize_to_string())"
   ]
  },
  {
   "source": [
    "**参考情報**\n",
    "- [Azure Machine Learning 環境とは?](https://docs.microsoft.com/ja-JP/azure/machine-learning/concept-environments)\n",
    "- [Azure Machine Learning でソフトウェア環境を作成して使用する](https://docs.microsoft.com/ja-jp/azure/machine-learning/how-to-use-environments#use-a-curated-environment)\n",
    "- [Azure Machine Learning のキュレーションされた環境](https://docs.microsoft.com/ja-jp/azure/machine-learning/resource-curated-environments)"
   ],
   "cell_type": "markdown",
   "metadata": {}
  }
 ]
}