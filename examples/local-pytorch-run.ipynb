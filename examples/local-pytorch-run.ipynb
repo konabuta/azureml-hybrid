{
 "metadata": {
  "orig_nbformat": 2,
  "kernelspec": {
   "name": "pytorch_env",
   "display_name": "pytorch_env"
  }
 },
 "nbformat": 4,
 "nbformat_minor": 2,
 "cells": [
  {
   "cell_type": "code",
   "execution_count": 1,
   "metadata": {},
   "outputs": [
    {
     "output_type": "stream",
     "name": "stdout",
     "text": [
      "Files already downloaded and verified\n",
      "epoch=1, batch= 2000: loss 2.29\n",
      "epoch=1, batch= 4000: loss 2.08\n",
      "epoch=1, batch= 6000: loss 1.92\n",
      "epoch=1, batch= 8000: loss 1.77\n",
      "epoch=1, batch=10000: loss 1.65\n",
      "epoch=1, batch=12000: loss 1.61\n",
      "epoch=2, batch= 2000: loss 1.52\n",
      "epoch=2, batch= 4000: loss 1.46\n",
      "epoch=2, batch= 6000: loss 1.46\n",
      "epoch=2, batch= 8000: loss 1.43\n",
      "epoch=2, batch=10000: loss 1.41\n",
      "epoch=2, batch=12000: loss 1.38\n",
      "Finished Training\n"
     ]
    }
   ],
   "source": [
    "%run code/pytorch-local/train.py"
   ]
  },
  {
   "cell_type": "code",
   "execution_count": null,
   "metadata": {},
   "outputs": [],
   "source": []
  }
 ]
}