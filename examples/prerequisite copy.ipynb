{
 "metadata": {
  "orig_nbformat": 2,
  "kernelspec": {
   "name": "pytorch_env",
   "display_name": "pytorch_env"
  }
 },
 "nbformat": 4,
 "nbformat_minor": 2,
 "cells": [
  {
   "source": [
    "## Conda 環境のセットアップ"
   ],
   "cell_type": "markdown",
   "metadata": {}
  },
  {
   "source": [
    "ローカル環境に conda 環境を構築します。予め Miniconda がインストールされていることを確認してください。_"
   ],
   "cell_type": "markdown",
   "metadata": {}
  },
  {
   "source": [
    "下記のコマンドを参考に `pytorch_env.yml` に記載のパッケージをローカルの conda 環境にインストールします。端末にインストールされているターミナル環境で作業します。"
   ],
   "cell_type": "markdown",
   "metadata": {}
  },
  {
   "source": [
    "```bash\n",
    "# pytorch_env という名前の conda 環境の作成\n",
    "conda env create -f ../environments/pytorch_env.yml\n",
    "\n",
    "# conda 環境の有効化\n",
    "conda activate pytorch_env\n",
    "\n",
    "# Jupyter カーネルへの登録\n",
    "export env_name=\"pytorch_env\"\n",
    "ipython kernel install --user --name=$env_name --display-name=$env_name\n",
    "```"
   ],
   "cell_type": "markdown",
   "metadata": {}
  }
 ]
}