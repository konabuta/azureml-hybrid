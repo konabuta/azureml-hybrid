{
 "metadata": {
  "language_info": {
   "codemirror_mode": {
    "name": "ipython",
    "version": 3
   },
   "file_extension": ".py",
   "mimetype": "text/x-python",
   "name": "python",
   "nbconvert_exporter": "python",
   "pygments_lexer": "ipython3",
   "version": "3.6.12-final"
  },
  "orig_nbformat": 2,
  "kernelspec": {
   "name": "pytorch_env",
   "display_name": "pytorch_env"
  }
 },
 "nbformat": 4,
 "nbformat_minor": 2,
 "cells": [
  {
   "source": [
    "## Machine Learning Pipeline の構築\n",
    "\n",
    "[Azure Machie Learning Pipeline](https://docs.microsoft.com/ja-JP/azure/machine-learning/concept-ml-pipelines) は再利用可能な機械学習パイプラインを実現します。モデル学習やバッチ推論で利用できます。構築した Machine Learning Pipeline は、[Github Actions](https://github.com/Azure/aml-run) や [Azure Data Factory](https://docs.microsoft.com/ja-JP/azure/data-factory/transform-data-machine-learning-service) などのサービスから呼び出すことができます。\n",
    "\n",
    "本 Noteobok では [3-aml-run.ipynb](./3-aml-run.ipynb) の処理をパイプラインとして再構築します。"
   ],
   "cell_type": "markdown",
   "metadata": {}
  },
  {
   "cell_type": "code",
   "execution_count": null,
   "metadata": {},
   "outputs": [],
   "source": [
    "from azureml.core import Workspace, Experiment, Datastore, Dataset,Environment\n",
    "from azureml.widgets import RunDetails"
   ]
  },
  {
   "source": [
    "### Machine Learning Pipeline 関連ライブラリ"
   ],
   "cell_type": "markdown",
   "metadata": {}
  },
  {
   "cell_type": "code",
   "execution_count": null,
   "metadata": {},
   "outputs": [],
   "source": [
    "from azureml.pipeline.core import Pipeline, PipelineParameter\n",
    "from azureml.pipeline.steps import PythonScriptStep"
   ]
  },
  {
   "cell_type": "code",
   "execution_count": null,
   "metadata": {},
   "outputs": [],
   "source": [
    "ws = Workspace.from_config()\n",
    "print(ws.name, ws.resource_group, ws.location, ws.subscription_id, sep = '\\n')"
   ]
  },
  {
   "cell_type": "code",
   "execution_count": null,
   "metadata": {},
   "outputs": [],
   "source": [
    "from azureml.core.compute import AmlCompute\n",
    "aml_compute = AmlCompute(ws, \"gpucluster\")"
   ]
  },
  {
   "source": [
    "### 実行構成"
   ],
   "cell_type": "markdown",
   "metadata": {}
  },
  {
   "cell_type": "code",
   "execution_count": null,
   "metadata": {},
   "outputs": [],
   "source": [
    "from azureml.core.runconfig import RunConfiguration\n",
    "run_config = RunConfiguration()\n",
    "run_config.environment.docker.enabled = True\n",
    "env = Environment.get(ws, \"pytorch-env\")\n",
    "run_config.environment = env"
   ]
  },
  {
   "source": [
    "### データセット"
   ],
   "cell_type": "markdown",
   "metadata": {}
  },
  {
   "cell_type": "code",
   "execution_count": null,
   "metadata": {},
   "outputs": [],
   "source": [
    "dataset = Dataset.get_by_name(ws, name='cifar10')\n",
    "ds_input = dataset.as_named_input('input1')"
   ]
  },
  {
   "cell_type": "code",
   "execution_count": null,
   "metadata": {},
   "outputs": [],
   "source": [
    "step1 = PythonScriptStep(name=\"train_step\",\n",
    "                         script_name=\"train.py\",\n",
    "                         arguments=[\n",
    "                            '--data_path', ds_input.as_download(),\n",
    "                            '--learning_rate', 0.003,\n",
    "                            '--momentum', 0.92],\n",
    "                         #inputs=[ds_input],\n",
    "                         compute_target=aml_compute, \n",
    "                         source_directory='./code/pytorch-cloud',\n",
    "                         runconfig=run_config,\n",
    "                         allow_reuse=True)\n",
    "print(\"step1 作成完了\")"
   ]
  },
  {
   "cell_type": "code",
   "execution_count": null,
   "metadata": {},
   "outputs": [],
   "source": [
    "steps = [step1]"
   ]
  },
  {
   "cell_type": "code",
   "execution_count": null,
   "metadata": {},
   "outputs": [],
   "source": [
    "pipeline1 = Pipeline(workspace=ws, steps=steps)\n",
    "print (\"Pipeline 構築完了\")"
   ]
  },
  {
   "cell_type": "code",
   "execution_count": null,
   "metadata": {},
   "outputs": [],
   "source": [
    "pipeline1.validate()\n",
    "print (\"Pipeline 検証完了\")"
   ]
  },
  {
   "cell_type": "code",
   "execution_count": null,
   "metadata": {},
   "outputs": [],
   "source": [
    "run = pipeline1.submit(\"5-aml-pipeline-run\")"
   ]
  },
  {
   "cell_type": "code",
   "execution_count": null,
   "metadata": {},
   "outputs": [],
   "source": [
    "run.wait_for_completion()"
   ]
  },
  {
   "source": [
    "### Endpoint として公開"
   ],
   "cell_type": "markdown",
   "metadata": {}
  },
  {
   "cell_type": "code",
   "execution_count": null,
   "metadata": {},
   "outputs": [],
   "source": [
    "pipeline1.publish(\"5-aml-pipeline\")"
   ]
  },
  {
   "cell_type": "code",
   "execution_count": null,
   "metadata": {},
   "outputs": [],
   "source": []
  }
 ]
}