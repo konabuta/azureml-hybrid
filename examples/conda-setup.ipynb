{
 "metadata": {
  "orig_nbformat": 2,
  "kernelspec": {
   "name": "pytorch_env",
   "display_name": "pytorch_env"
  }
 },
 "nbformat": 4,
 "nbformat_minor": 2,
 "cells": [
  {
   "source": [
    "## Conda 環境の構築"
   ],
   "cell_type": "markdown",
   "metadata": {}
  },
  {
   "source": [
    "クライアントPC のターミナル環境にて conda 環境を作成します。予め [Miniconda](https://docs.conda.io/en/latest/miniconda.html) や [Anaconda](https://docs.anaconda.com/anaconda/install/) がインストールされていることが前提です。"
   ],
   "cell_type": "markdown",
   "metadata": {}
  },
  {
   "source": [
    "`example` フォルダに移動\n",
    "```bash\n",
    "cd Users/<ユーザ名>/azureml-hybrid/examples\n",
    "```\n",
    "\n",
    "yml に記載しているパッケージをベースに conda 環境 (pytorch_env) を作成\n",
    "```bash\n",
    "export name=\"pytorch_env\"\n",
    "conda env create -n $name -f ../environments/pytorch_env.yml\n",
    "```\n",
    "\n",
    "conda 環境の有効化\n",
    "```bash\n",
    "conda activate pytorch_env\n",
    "```\n",
    "\n",
    "Jupyter カーネルの作成\n",
    "```bash\n",
    "export env_name=\"pytorch_env\"\n",
    "ipython kernel install --user --name=$env_name --display-name=$env_name\n",
    "``` "
   ],
   "cell_type": "markdown",
   "metadata": {}
  },
  {
   "source": [],
   "cell_type": "markdown",
   "metadata": {}
  },
  {
   "cell_type": "code",
   "execution_count": null,
   "metadata": {},
   "outputs": [],
   "source": []
  }
 ]
}