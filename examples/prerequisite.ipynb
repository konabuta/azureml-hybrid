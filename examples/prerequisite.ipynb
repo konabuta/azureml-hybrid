{
 "metadata": {
  "orig_nbformat": 2,
  "kernelspec": {
   "name": "pytorch_env",
   "display_name": "pytorch_env"
  }
 },
 "nbformat": 4,
 "nbformat_minor": 2,
 "cells": [
  {
   "source": [
    "conda environmentm"
   ],
   "cell_type": "markdown",
   "metadata": {}
  },
  {
   "source": [
    "if \"command not found\", find right path to conda by \"which conda\" in terminal"
   ],
   "cell_type": "markdown",
   "metadata": {}
  },
  {
   "source": [
    "```bash\n",
    "conda env create -f ../environments/pytorch_env.yml\n",
    "#conda env update -f ../environments/pytorch_env.yml\n",
    "conda activate pytorch_env\n",
    "```"
   ],
   "cell_type": "markdown",
   "metadata": {}
  },
  {
   "source": [
    "```bash\n",
    "export env_name=\"pytorch_env\"\n",
    "ipython kernel install --user --name=$env_name --display-name=$env_name\n",
    "``` "
   ],
   "cell_type": "markdown",
   "metadata": {}
  },
  {
   "cell_type": "code",
   "execution_count": null,
   "metadata": {},
   "outputs": [],
   "source": []
  },
  {
   "source": [
    "azure machine learning config の作成"
   ],
   "cell_type": "markdown",
   "metadata": {}
  },
  {
   "cell_type": "code",
   "execution_count": 1,
   "metadata": {},
   "outputs": [],
   "source": [
    "from azureml.core import Workspace, Dataset\n",
    "\n",
    "subscription_id = '82a5d8d3-5322-4c49-b9d6-da6e00be5d57'\n",
    "resource_group = 'azureml'\n",
    "workspace_name = 'azureml'\n",
    "\n",
    "workspace = Workspace(subscription_id, resource_group, workspace_name)"
   ]
  },
  {
   "cell_type": "code",
   "execution_count": 2,
   "metadata": {},
   "outputs": [],
   "source": [
    "workspace.write_config(path=\".azureml\")"
   ]
  },
  {
   "source": [
    "conda environment"
   ],
   "cell_type": "markdown",
   "metadata": {}
  },
  {
   "cell_type": "code",
   "execution_count": null,
   "metadata": {},
   "outputs": [],
   "source": []
  }
 ]
}