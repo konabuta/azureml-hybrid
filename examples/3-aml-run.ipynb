{
 "metadata": {
  "language_info": {
   "codemirror_mode": {
    "name": "ipython",
    "version": 3
   },
   "file_extension": ".py",
   "mimetype": "text/x-python",
   "name": "python",
   "nbconvert_exporter": "python",
   "pygments_lexer": "ipython3",
   "version": "3.6.12-final"
  },
  "orig_nbformat": 2,
  "kernelspec": {
   "name": "pytorch_env",
   "display_name": "pytorch_env"
  }
 },
 "nbformat": 4,
 "nbformat_minor": 2,
 "cells": [
  {
   "source": [
    "code 変更箇所の記載\n",
    "- 引数\n",
    "- メトリック記録"
   ],
   "cell_type": "markdown",
   "metadata": {}
  },
  {
   "source": [
    "local 環境でのテスト"
   ],
   "cell_type": "markdown",
   "metadata": {}
  },
  {
   "source": [
    "azure machine learning training"
   ],
   "cell_type": "markdown",
   "metadata": {}
  },
  {
   "cell_type": "code",
   "execution_count": 1,
   "metadata": {},
   "outputs": [],
   "source": [
    "from azureml.core import Workspace, Experiment, Environment, ScriptRunConfig, Dataset\n",
    "from azureml.widgets import RunDetails"
   ]
  },
  {
   "cell_type": "code",
   "execution_count": 2,
   "metadata": {},
   "outputs": [],
   "source": [
    "ws = Workspace.from_config()"
   ]
  },
  {
   "cell_type": "code",
   "execution_count": 3,
   "metadata": {},
   "outputs": [],
   "source": [
    "dataset = Dataset.get_by_name(ws, name='cifar10')"
   ]
  },
  {
   "cell_type": "code",
   "execution_count": 4,
   "metadata": {},
   "outputs": [],
   "source": [
    "experiment = Experiment(workspace=ws, name='day1-experiment-data')\n",
    "\n",
    "config = ScriptRunConfig(source_directory='./code/pytorch-cloud',\n",
    "                         script='train.py',\n",
    "                         compute_target='cpu-cluster',\n",
    "                         arguments=[\n",
    "                            '--data_path', dataset.as_named_input('input').as_download(),\n",
    "                            '--learning_rate', 0.003,\n",
    "                            '--momentum', 0.92])\n",
    "\n"
   ]
  },
  {
   "cell_type": "code",
   "execution_count": 5,
   "metadata": {},
   "outputs": [],
   "source": [
    "env = Environment.get(ws, \"pytorch-env\")"
   ]
  },
  {
   "cell_type": "code",
   "execution_count": 6,
   "metadata": {},
   "outputs": [],
   "source": [
    "config.run_config.environment = env"
   ]
  },
  {
   "cell_type": "code",
   "execution_count": 7,
   "metadata": {},
   "outputs": [
    {
     "output_type": "display_data",
     "data": {
      "text/plain": "_UserRunWidget(widget_settings={'childWidgetDisplay': 'popup', 'send_telemetry': False, 'log_level': 'INFO', '…",
      "application/vnd.jupyter.widget-view+json": {
       "version_major": 2,
       "version_minor": 0,
       "model_id": "7e470220b9b0484188ad0b9c6c4eff85"
      }
     },
     "metadata": {}
    },
    {
     "output_type": "display_data",
     "data": {
      "application/aml.mini.widget.v1": "{\"status\": \"Starting\", \"workbench_run_details_uri\": \"https://ml.azure.com/experiments/day1-experiment-data/runs/day1-experiment-data_1605251641_ccf904f3?wsid=/subscriptions/82a5d8d3-5322-4c49-b9d6-da6e00be5d57/resourcegroups/azureml/workspaces/azureml\", \"run_id\": \"day1-experiment-data_1605251641_ccf904f3\", \"run_properties\": {\"run_id\": \"day1-experiment-data_1605251641_ccf904f3\", \"created_utc\": \"2020-11-13T07:14:02.900699Z\", \"properties\": {\"_azureml.ComputeTargetType\": \"amlcompute\", \"ContentSnapshotId\": \"d6f0a350-f57e-4fe3-8a03-1e0449723528\", \"azureml.git.repository_uri\": \"https://github.com/konabuta/azureml-hybrid\", \"mlflow.source.git.repoURL\": \"https://github.com/konabuta/azureml-hybrid\", \"azureml.git.branch\": \"main\", \"mlflow.source.git.branch\": \"main\", \"azureml.git.commit\": \"d85750e88d235f2630fafaa8b322b0525a215a73\", \"mlflow.source.git.commit\": \"d85750e88d235f2630fafaa8b322b0525a215a73\", \"azureml.git.dirty\": \"True\"}, \"tags\": {}, \"script_name\": null, \"arguments\": null, \"end_time_utc\": null, \"status\": \"Starting\", \"log_files\": {}, \"log_groups\": [], \"run_duration\": \"0:00:01\"}, \"child_runs\": [], \"children_metrics\": {}, \"run_metrics\": [], \"run_logs\": \"Your job is submitted in Azure cloud and we are monitoring to get logs...\", \"graph\": {}, \"widget_settings\": {\"childWidgetDisplay\": \"popup\", \"send_telemetry\": false, \"log_level\": \"INFO\", \"sdk_version\": \"1.18.0\"}, \"loading\": false}"
     },
     "metadata": {}
    }
   ],
   "source": [
    "# set up pytorch environment\n",
    "\n",
    "\n",
    "run = experiment.submit(config)\n",
    "RunDetails(run).show()"
   ]
  },
  {
   "cell_type": "code",
   "execution_count": null,
   "metadata": {},
   "outputs": [],
   "source": []
  }
 ]
}