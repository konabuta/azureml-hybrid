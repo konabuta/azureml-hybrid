{
 "metadata": {
  "language_info": {
   "codemirror_mode": {
    "name": "ipython",
    "version": 3
   },
   "file_extension": ".py",
   "mimetype": "text/x-python",
   "name": "python",
   "nbconvert_exporter": "python",
   "pygments_lexer": "ipython3",
   "version": "3.6.12-final"
  },
  "orig_nbformat": 2,
  "kernelspec": {
   "name": "pytorch_env",
   "display_name": "pytorch_env"
  }
 },
 "nbformat": 4,
 "nbformat_minor": 2,
 "cells": [
  {
   "source": [
    "## Azure Machine Learning での実験"
   ],
   "cell_type": "markdown",
   "metadata": {}
  },
  {
   "source": [
    "### Azure Machine Learning への対応\n",
    "\n",
    "#### ライブラリ\n",
    "conda yml ファイルにおいて、Azure Machine Learning の Python SDK `azureml-sdk` は必ず含むようにします。\n",
    "\n",
    "#### データセット (引数で引き渡す)\n",
    "学習データは Azure Machine Learning Dataset (or Datastore)\u0010に登録されているものを利用します。`ScriptRunConfig` に `dataset.as_named_input('input').as_mount()` のように、 Dataset の情報、名称(エイリアス)、下記いずれかの提供方法についての情報をインプットします。\n",
    "- `as_mount()` : ファイルをマウントする\n",
    "- `as_download()` : ファイルをダウンロードする\n",
    "    \n",
    "#### メトリック記録\n",
    "モデル学習において、ハイパーパラメータやモデル精度などのメトリックを記録することができます。各実験の記録を横串で可視化して比較することもできます。\n",
    "- `run = Run.get_context()` : run オブジェクトの生成\n",
    "- `run.log(\"xxx\", xxx)`  : 実験のメトリックとして記録"
   ],
   "cell_type": "markdown",
   "metadata": {}
  },
  {
   "cell_type": "code",
   "execution_count": null,
   "metadata": {},
   "outputs": [],
   "source": [
    "from azureml.core import Workspace, Experiment, Environment, ScriptRunConfig, Dataset\n",
    "from azureml.widgets import RunDetails"
   ]
  },
  {
   "cell_type": "code",
   "execution_count": null,
   "metadata": {},
   "outputs": [],
   "source": [
    "ws = Workspace.from_config()"
   ]
  },
  {
   "source": [
    "### Database の取得"
   ],
   "cell_type": "markdown",
   "metadata": {}
  },
  {
   "cell_type": "code",
   "execution_count": null,
   "metadata": {},
   "outputs": [],
   "source": [
    "dataset = Dataset.get_by_name(ws, name='cifar10')"
   ]
  },
  {
   "source": [
    "### 実験名の設定"
   ],
   "cell_type": "markdown",
   "metadata": {}
  },
  {
   "cell_type": "code",
   "execution_count": null,
   "metadata": {},
   "outputs": [],
   "source": [
    "experiment = Experiment(workspace=ws, name='3-aml-run')"
   ]
  },
  {
   "source": [
    "### 学習スクリプトの実行設定"
   ],
   "cell_type": "markdown",
   "metadata": {}
  },
  {
   "source": [
    "\n",
    "config = ScriptRunConfig(source_directory='./code/pytorch-cloud',\n",
    "                         script='train.py',\n",
    "                         compute_target='gpucluster',\n",
    "                         arguments=[\n",
    "                            '--data_path', dataset.as_named_input('input').as_download(),\n",
    "                            '--learning_rate', 0.003,\n",
    "                            '--momentum', 0.92])"
   ],
   "cell_type": "code",
   "metadata": {},
   "execution_count": null,
   "outputs": []
  },
  {
   "source": [
    "### Environment の呼び出しと実行設定へのインプット"
   ],
   "cell_type": "markdown",
   "metadata": {}
  },
  {
   "cell_type": "code",
   "execution_count": null,
   "metadata": {},
   "outputs": [],
   "source": [
    "env = Environment.get(ws, \"pytorch-env\")"
   ]
  },
  {
   "cell_type": "code",
   "execution_count": null,
   "metadata": {},
   "outputs": [],
   "source": [
    "config.run_config.environment = env"
   ]
  },
  {
   "source": [
    "### 実行と結果確認"
   ],
   "cell_type": "markdown",
   "metadata": {}
  },
  {
   "cell_type": "code",
   "execution_count": null,
   "metadata": {},
   "outputs": [],
   "source": [
    "run = experiment.submit(config)"
   ]
  },
  {
   "cell_type": "code",
   "execution_count": null,
   "metadata": {},
   "outputs": [],
   "source": [
    "RunDetails(run).show()"
   ]
  },
  {
   "cell_type": "code",
   "execution_count": null,
   "metadata": {},
   "outputs": [],
   "source": [
    "run.wait_for_completion(show_output=True)"
   ]
  },
  {
   "source": [
    "**参考情報**\n",
    "- [トレーニングの実行を構成して送信する](https://docs.microsoft.com/ja-jp/azure/machine-learning/how-to-set-up-training-targets)"
   ],
   "cell_type": "markdown",
   "metadata": {}
  }
 ]
}