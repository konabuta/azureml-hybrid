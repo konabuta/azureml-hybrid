{
 "metadata": {
  "language_info": {
   "codemirror_mode": {
    "name": "ipython",
    "version": 3
   },
   "file_extension": ".py",
   "mimetype": "text/x-python",
   "name": "python",
   "nbconvert_exporter": "python",
   "pygments_lexer": "ipython3",
   "version": "3.6.12-final"
  },
  "orig_nbformat": 2,
  "kernelspec": {
   "name": "pytorch_env",
   "display_name": "pytorch_env"
  }
 },
 "nbformat": 4,
 "nbformat_minor": 2,
 "cells": [
  {
   "source": [
    "upload local cifar10 dataset up to azure machine learning dataset"
   ],
   "cell_type": "markdown",
   "metadata": {}
  },
  {
   "source": [
    "download cifar10 dataset"
   ],
   "cell_type": "markdown",
   "metadata": {}
  },
  {
   "cell_type": "code",
   "execution_count": 1,
   "metadata": {},
   "outputs": [
    {
     "output_type": "stream",
     "name": "stdout",
     "text": [
      "Files already downloaded and verified\n"
     ]
    }
   ],
   "source": [
    "from torchvision import datasets\n",
    "dataset = datasets.CIFAR10(\"../data/cifar10/\", train=False, download=True)"
   ]
  },
  {
   "source": [
    "upload to azure machine learning datastore"
   ],
   "cell_type": "markdown",
   "metadata": {}
  },
  {
   "cell_type": "code",
   "execution_count": 2,
   "metadata": {},
   "outputs": [
    {
     "output_type": "stream",
     "name": "stdout",
     "text": [
      "Uploading an estimated of 9 files\n",
      "Uploading ../data/cifar10/cifar-10-batches-py/readme.html\n",
      "Uploaded ../data/cifar10/cifar-10-batches-py/readme.html, 1 files out of an estimated total of 9\n",
      "Uploading ../data/cifar10/cifar-10-batches-py/batches.meta\n",
      "Uploaded ../data/cifar10/cifar-10-batches-py/batches.meta, 2 files out of an estimated total of 9\n",
      "Uploading ../data/cifar10/cifar-10-batches-py/test_batch\n",
      "Uploaded ../data/cifar10/cifar-10-batches-py/test_batch, 3 files out of an estimated total of 9\n",
      "Uploading ../data/cifar10/cifar-10-batches-py/data_batch_2\n",
      "Uploaded ../data/cifar10/cifar-10-batches-py/data_batch_2, 4 files out of an estimated total of 9\n",
      "Uploading ../data/cifar10/cifar-10-batches-py/data_batch_4\n",
      "Uploaded ../data/cifar10/cifar-10-batches-py/data_batch_4, 5 files out of an estimated total of 9\n",
      "Uploading ../data/cifar10/cifar-10-batches-py/data_batch_3\n",
      "Uploaded ../data/cifar10/cifar-10-batches-py/data_batch_3, 6 files out of an estimated total of 9\n",
      "Uploading ../data/cifar10/cifar-10-batches-py/data_batch_1\n",
      "Uploaded ../data/cifar10/cifar-10-batches-py/data_batch_1, 7 files out of an estimated total of 9\n",
      "Uploading ../data/cifar10/cifar-10-batches-py/data_batch_5\n",
      "Uploaded ../data/cifar10/cifar-10-batches-py/data_batch_5, 8 files out of an estimated total of 9\n",
      "Uploading ../data/cifar10/cifar-10-python.tar.gz\n",
      "Uploaded ../data/cifar10/cifar-10-python.tar.gz, 9 files out of an estimated total of 9\n",
      "Uploaded 9 files\n"
     ]
    },
    {
     "output_type": "execute_result",
     "data": {
      "text/plain": [
       "$AZUREML_DATAREFERENCE_51e3e600f6b249a68477092555fab69d"
      ]
     },
     "metadata": {},
     "execution_count": 2
    }
   ],
   "source": [
    "# tutorial/05-upload-data.py\n",
    "from azureml.core import Workspace, Datastore, Dataset\n",
    "ws = Workspace.from_config()\n",
    "datastore = ws.get_default_datastore()\n",
    "datastore.upload(src_dir='../data/cifar10', target_path='datasets/cifar10', overwrite=True)"
   ]
  },
  {
   "cell_type": "code",
   "execution_count": 3,
   "metadata": {},
   "outputs": [],
   "source": [
    "dataset = Dataset.File.from_files(path=(datastore, 'datasets/cifar10'))"
   ]
  },
  {
   "cell_type": "code",
   "execution_count": 4,
   "metadata": {},
   "outputs": [
    {
     "output_type": "execute_result",
     "data": {
      "text/plain": [
       "{\n",
       "  \"source\": [\n",
       "    \"('workspaceblobstore', 'datasets/cifar10')\"\n",
       "  ],\n",
       "  \"definition\": [\n",
       "    \"GetDatastoreFiles\"\n",
       "  ],\n",
       "  \"registration\": {\n",
       "    \"id\": \"ea178093-b999-4839-81a9-051f987d41d0\",\n",
       "    \"name\": \"cifar10\",\n",
       "    \"version\": 1,\n",
       "    \"description\": \"for hack\",\n",
       "    \"workspace\": \"Workspace.create(name='azureml', subscription_id='82a5d8d3-5322-4c49-b9d6-da6e00be5d57', resource_group='azureml')\"\n",
       "  }\n",
       "}"
      ]
     },
     "metadata": {},
     "execution_count": 4
    }
   ],
   "source": [
    "dataset.register(ws, name=\"cifar10\", description=\"for hack\", create_new_version=True)"
   ]
  },
  {
   "cell_type": "code",
   "execution_count": null,
   "metadata": {},
   "outputs": [],
   "source": []
  }
 ]
}