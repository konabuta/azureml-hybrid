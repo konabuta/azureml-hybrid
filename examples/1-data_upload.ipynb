{
 "metadata": {
  "language_info": {
   "codemirror_mode": {
    "name": "ipython",
    "version": 3
   },
   "file_extension": ".py",
   "mimetype": "text/x-python",
   "name": "python",
   "nbconvert_exporter": "python",
   "pygments_lexer": "ipython3",
   "version": "3.6.12-final"
  },
  "orig_nbformat": 2,
  "kernelspec": {
   "name": "pytorch_env",
   "display_name": "pytorch_env"
  }
 },
 "nbformat": 4,
 "nbformat_minor": 2,
 "cells": [
  {
   "source": [
    "## データのアップロード (オンプレミス to クラウド)\n",
    "Cifar10 のサンプルデータを Azure Mahcine Learning の Datastore にアップロードし、Dataset として登録します。"
   ],
   "cell_type": "markdown",
   "metadata": {}
  },
  {
   "source": [
    "### PyTorch の Cifar10 サンプルデータのダウンロード"
   ],
   "cell_type": "markdown",
   "metadata": {}
  },
  {
   "cell_type": "code",
   "execution_count": null,
   "metadata": {},
   "outputs": [],
   "source": [
    "from torchvision import datasets\n",
    "dataset = datasets.CIFAR10(\"../data/cifar10/\", train=False, download=True)"
   ]
  },
  {
   "source": [
    "### Azure Machine Learning Datastore へのアップロード"
   ],
   "cell_type": "markdown",
   "metadata": {}
  },
  {
   "source": [
    "Datastore は様々な Azure のストレージサービスに対する接続情報を保持しています。今回は Azure Machine Learning 付属の Blob storage (デフォルトの Datstore) にデータをアップロードします。\n",
    "\n",
    "登録済みの Datastore は [Azure Machine Learning studio](ml.azure.com)\u0010の左メニューの 「データストア」\u0010から確認できます。"
   ],
   "cell_type": "markdown",
   "metadata": {}
  },
  {
   "cell_type": "code",
   "execution_count": null,
   "metadata": {},
   "outputs": [],
   "source": [
    "from azureml.core import Workspace, Datastore, Dataset\n",
    "ws = Workspace.from_config()"
   ]
  },
  {
   "cell_type": "code",
   "execution_count": null,
   "metadata": {},
   "outputs": [],
   "source": [
    "# デフォルトの Datastore にデータをアップロード\n",
    "datastore = ws.get_default_datastore()\n",
    "datastore.upload(src_dir='../data/cifar10', target_path='datasets/cifar10', overwrite=True)"
   ]
  },
  {
   "source": [
    "### Azure Machine Learning Dataset への登録"
   ],
   "cell_type": "markdown",
   "metadata": {}
  },
  {
   "source": [
    "Datstore に格納されたデータを Dataset として登録することができます。Dataset は Tabular 形式と File 形式をサポートしています。今回は画像データなので、File 形式になります。\n",
    "\n",
    "登録済みの Dataset は [Azure Machine Learning studio](ml.azure.com)\u0010の左メニューの 「データセット」 から確認できます。"
   ],
   "cell_type": "markdown",
   "metadata": {}
  },
  {
   "cell_type": "code",
   "execution_count": null,
   "metadata": {},
   "outputs": [],
   "source": [
    "# File 形式の Dataset を作成\n",
    "dataset = Dataset.File.from_files(path=(datastore, 'datasets/cifar10'))"
   ]
  },
  {
   "source": [
    "# Dataset を登録\n",
    "dataset.register(ws, name=\"cifar10\", description=\"for hack\", create_new_version=True)"
   ],
   "cell_type": "code",
   "metadata": {},
   "execution_count": null,
   "outputs": []
  },
  {
   "cell_type": "code",
   "execution_count": null,
   "metadata": {},
   "outputs": [],
   "source": []
  },
  {
   "source": [
    "**参考情報**\n",
    "- [Azure Machine Learning のしくみ:アーキテクチャと概念 - データセットとデータストア](https://docs.microsoft.com/ja-jp/azure/machine-learning/concept-azure-machine-learning-architecture#datasets-and-datastores)"
   ],
   "cell_type": "markdown",
   "metadata": {}
  },
  {
   "cell_type": "code",
   "execution_count": null,
   "metadata": {},
   "outputs": [],
   "source": []
  }
 ]
}