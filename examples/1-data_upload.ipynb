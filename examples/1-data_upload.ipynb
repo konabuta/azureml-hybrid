{
 "metadata": {
  "language_info": {
   "codemirror_mode": {
    "name": "ipython",
    "version": 3
   },
   "file_extension": ".py",
   "mimetype": "text/x-python",
   "name": "python",
   "nbconvert_exporter": "python",
   "pygments_lexer": "ipython3",
   "version": "3.6.12-final"
  },
  "orig_nbformat": 2,
  "kernelspec": {
   "name": "pytorch_env",
   "display_name": "pytorch_env"
  }
 },
 "nbformat": 4,
 "nbformat_minor": 2,
 "cells": [
  {
   "source": [
    "## データのアップロード (オンプレミス to クラウド)\n",
    "Cifar10 のサンプルデータを Azure Mahcine Learning の Datastore にアップロードし、Dataset として登録します。"
   ],
   "cell_type": "markdown",
   "metadata": {}
  },
  {
   "source": [
    "### PyTorch の Cifar10 サンプルデータのダウンロード"
   ],
   "cell_type": "markdown",
   "metadata": {}
  },
  {
   "cell_type": "code",
   "execution_count": 5,
   "metadata": {},
   "outputs": [
    {
     "output_type": "stream",
     "name": "stderr",
     "text": [
      "0it [00:00, ?it/s]Downloading https://www.cs.toronto.edu/~kriz/cifar-10-python.tar.gz to ../data/cifar10/cifar-10-python.tar.gz\n",
      "100%|█████████▉| 169844736/170498071 [00:21<00:00, 5248533.20it/s]Extracting ../data/cifar10/cifar-10-python.tar.gz to ../data/cifar10/\n",
      "170500096it [00:40, 5248533.20it/s]                               "
     ]
    }
   ],
   "source": [
    "from torchvision import datasets\n",
    "dataset = datasets.CIFAR10(\"../data/cifar10/\", train=False, download=True)"
   ]
  },
  {
   "source": [
    "### Azure Machine Learning Datastore へのアップロード"
   ],
   "cell_type": "markdown",
   "metadata": {}
  },
  {
   "cell_type": "code",
   "execution_count": 6,
   "metadata": {},
   "outputs": [
    {
     "output_type": "stream",
     "name": "stdout",
     "text": [
      "Uploading an estimated of 10 files\n",
      "Uploading ../data/cifar10/.gitkeep\n",
      "Uploaded ../data/cifar10/.gitkeep, 1 files out of an estimated total of 10\n",
      "Uploading ../data/cifar10/cifar-10-batches-py/readme.html\n",
      "Uploaded ../data/cifar10/cifar-10-batches-py/readme.html, 2 files out of an estimated total of 10\n",
      "Uploading ../data/cifar10/cifar-10-batches-py/batches.meta\n",
      "Uploaded ../data/cifar10/cifar-10-batches-py/batches.meta, 3 files out of an estimated total of 10\n",
      "Uploading ../data/cifar10/cifar-10-batches-py/test_batch\n",
      "Uploaded ../data/cifar10/cifar-10-batches-py/test_batch, 4 files out of an estimated total of 10\n",
      "Uploading ../data/cifar10/cifar-10-batches-py/data_batch_1\n",
      "Uploaded ../data/cifar10/cifar-10-batches-py/data_batch_1, 5 files out of an estimated total of 10\n",
      "Uploading ../data/cifar10/cifar-10-batches-py/data_batch_5\n",
      "Uploaded ../data/cifar10/cifar-10-batches-py/data_batch_5, 6 files out of an estimated total of 10\n",
      "Uploading ../data/cifar10/cifar-10-batches-py/data_batch_3\n",
      "Uploaded ../data/cifar10/cifar-10-batches-py/data_batch_3, 7 files out of an estimated total of 10\n",
      "Uploading ../data/cifar10/cifar-10-batches-py/data_batch_2\n",
      "Uploaded ../data/cifar10/cifar-10-batches-py/data_batch_2, 8 files out of an estimated total of 10\n",
      "Uploading ../data/cifar10/cifar-10-batches-py/data_batch_4\n",
      "Uploaded ../data/cifar10/cifar-10-batches-py/data_batch_4, 9 files out of an estimated total of 10\n",
      "Uploading ../data/cifar10/cifar-10-python.tar.gz\n",
      "Uploaded ../data/cifar10/cifar-10-python.tar.gz, 10 files out of an estimated total of 10\n",
      "Uploaded 10 files\n"
     ]
    },
    {
     "output_type": "execute_result",
     "data": {
      "text/plain": [
       "$AZUREML_DATAREFERENCE_09137a8f37974df0be6b9df2f1b3e387"
      ]
     },
     "metadata": {},
     "execution_count": 6
    }
   ],
   "source": [
    "from azureml.core import Workspace, Datastore, Dataset\n",
    "ws = Workspace.from_config()\n",
    "datastore = ws.get_default_datastore()\n",
    "datastore.upload(src_dir='../data/cifar10', target_path='datasets/cifar10', overwrite=True)"
   ]
  },
  {
   "source": [
    "### Azure Machine Learning Dataset への登録"
   ],
   "cell_type": "markdown",
   "metadata": {}
  },
  {
   "cell_type": "code",
   "execution_count": 8,
   "metadata": {},
   "outputs": [],
   "source": [
    "dataset = Dataset.File.from_files(path=(datastore, 'datasets/cifar10'))"
   ]
  },
  {
   "cell_type": "code",
   "execution_count": 9,
   "metadata": {},
   "outputs": [
    {
     "output_type": "execute_result",
     "data": {
      "text/plain": [
       "{\n",
       "  \"source\": [\n",
       "    \"('workspaceblobstore', 'datasets/cifar10')\"\n",
       "  ],\n",
       "  \"definition\": [\n",
       "    \"GetDatastoreFiles\"\n",
       "  ],\n",
       "  \"registration\": {\n",
       "    \"id\": \"ea178093-b999-4839-81a9-051f987d41d0\",\n",
       "    \"name\": \"cifar10\",\n",
       "    \"version\": 1,\n",
       "    \"description\": \"for hack\",\n",
       "    \"workspace\": \"Workspace.create(name='azureml', subscription_id='82a5d8d3-5322-4c49-b9d6-da6e00be5d57', resource_group='azureml')\"\n",
       "  }\n",
       "}"
      ]
     },
     "metadata": {},
     "execution_count": 9
    }
   ],
   "source": [
    "dataset.register(ws, name=\"cifar10\", description=\"for hack\", create_new_version=True)"
   ]
  }
 ]
}