{
 "metadata": {
  "language_info": {
   "codemirror_mode": {
    "name": "ipython",
    "version": 3
   },
   "file_extension": ".py",
   "mimetype": "text/x-python",
   "name": "python",
   "nbconvert_exporter": "python",
   "pygments_lexer": "ipython3",
   "version": "3.6.12-final"
  },
  "orig_nbformat": 2,
  "kernelspec": {
   "name": "pytorch_env",
   "display_name": "pytorch_env"
  }
 },
 "nbformat": 4,
 "nbformat_minor": 2,
 "cells": [
  {
   "source": [
    "## データのアップロード (オンプレミス to クラウド)\n",
    "Cifar10 のサンプルデータを Azure Mahcine Learning の Datastore にアップロードし、Dataset として登録します。"
   ],
   "cell_type": "markdown",
   "metadata": {}
  },
  {
   "source": [
    "### PyTorch の Cifar10 サンプルデータのダウンロード"
   ],
   "cell_type": "markdown",
   "metadata": {}
  },
  {
   "cell_type": "code",
   "execution_count": null,
   "metadata": {},
   "outputs": [],
   "source": [
    "from torchvision import datasets\n",
    "dataset = datasets.CIFAR10(\"../data/cifar10/\", train=False, download=True)"
   ]
  },
  {
   "source": [
    "### Azure Machine Learning Datastore へのアップロード"
   ],
   "cell_type": "markdown",
   "metadata": {}
  },
  {
   "cell_type": "code",
   "execution_count": null,
   "metadata": {},
   "outputs": [],
   "source": [
    "from azureml.core import Workspace, Datastore, Dataset\n",
    "ws = Workspace.from_config()\n",
    "datastore = ws.get_default_datastore()\n",
    "datastore.upload(src_dir='../data/cifar10', target_path='datasets/cifar10', overwrite=True)"
   ]
  },
  {
   "source": [
    "### Azure Machine Learning Dataset への登録"
   ],
   "cell_type": "markdown",
   "metadata": {}
  },
  {
   "cell_type": "code",
   "execution_count": null,
   "metadata": {},
   "outputs": [],
   "source": [
    "dataset = Dataset.File.from_files(path=(datastore, 'datasets/cifar10'))"
   ]
  },
  {
   "cell_type": "code",
   "execution_count": null,
   "metadata": {},
   "outputs": [],
   "source": [
    "dataset.register(ws, name=\"cifar10\", description=\"for hack\", create_new_version=True)"
   ]
  }
 ]
}