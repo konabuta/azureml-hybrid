{
 "metadata": {
  "orig_nbformat": 2,
  "kernelspec": {
   "name": "pytorch_env",
   "display_name": "pytorch_env"
  }
 },
 "nbformat": 4,
 "nbformat_minor": 2,
 "cells": [
  {
   "source": [
    "## Azure Machine Learning 事前設定"
   ],
   "cell_type": "markdown",
   "metadata": {}
  },
  {
   "source": [
    "### 1. 構成ファイルの取得\n",
    "ローカル環境から Azure Machine Learning に接続する際の情報が書かれている構成ファイルを生成し保存します。"
   ],
   "cell_type": "markdown",
   "metadata": {}
  },
  {
   "cell_type": "code",
   "execution_count": 1,
   "metadata": {},
   "outputs": [],
   "source": [
    "from azureml.core import Workspace, Dataset\n",
    "\n",
    "subscription_id = ''\n",
    "resource_group = ''\n",
    "workspace_name = ''\n",
    "\n",
    "workspace = Workspace(subscription_id, resource_group, workspace_name)"
   ]
  },
  {
   "cell_type": "code",
   "execution_count": 2,
   "metadata": {},
   "outputs": [],
   "source": [
    "workspace.write_config(path=\".azureml\")"
   ]
  },
  {
   "cell_type": "code",
   "execution_count": null,
   "metadata": {},
   "outputs": [],
   "source": []
  },
  {
   "source": [
    "### 2. コンピューティングクラスター (Compute Cluster) の構築"
   ],
   "cell_type": "markdown",
   "metadata": {}
  },
  {
   "source": [
    "[Azure Machine Learning studio](ml.azure.com) にログインし、左メニューから「コンピューティング」 にアクセスし、コンピューティングクラスターを作成します。手順は下記ドキュメントをご参照ください。\n",
    "\n",
    "※ ドキュメント :[Azure Machine Learning スタジオでモデルのトレーニングとデプロイのためのコンピューティング先を作成する\n",
    "](https://docs.microsoft.com/ja-jp/azure/machine-learning/how-to-create-attach-compute-studio)"
   ],
   "cell_type": "markdown",
   "metadata": {}
  },
  {
   "source": [
    "Azure Machine Learning のワークスペースが東日本にある場合は、[Tesla V100](https://www.nvidia.com/en-gb/data-center/tesla-v100/) に該当する `Standard NC6s_v3` などの GPU を選択することを推奨します。"
   ],
   "cell_type": "markdown",
   "metadata": {}
  },
  {
   "cell_type": "code",
   "execution_count": null,
   "metadata": {},
   "outputs": [],
   "source": []
  }
 ]
}